{
 "cells": [
  {
   "cell_type": "code",
   "execution_count": 1,
   "metadata": {},
   "outputs": [
    {
     "name": "stdout",
     "output_type": "stream",
     "text": [
      "Install xlrd >= 1.0.0 for Excel support\n"
     ]
    },
    {
     "name": "stderr",
     "output_type": "stream",
     "text": [
      "C:\\Users\\Peixin\\Miniconda3\\envs\\wt_py3\\lib\\site-packages\\tushare\\stock\\classifying.py:266: FutureWarning: the 'parse_cols' keyword is deprecated, use 'usecols' instead\n",
      "  ct.PAGES['sz50b']), parse_cols=[0, 4, 5])\n"
     ]
    }
   ],
   "source": [
    "import numpy as np\n",
    "import pandas as pd\n",
    "import matplotlib.pyplot as plt\n",
    "import tushare as ts\n",
    "\n",
    "# Read tushare token string from local file.\n",
    "with open('tushare_api_token.txt', 'r') as token_file:\n",
    "    token = token_file.read().replace('\\n', '')\n",
    "ts.set_token(token)\n",
    "pro = ts.pro_api()\n",
    "\n",
    "all_data = pro.stock_basic(fields='ts_code, symbol, name, market, exchange')\n",
    "st = ts.get_st_classified()\n",
    "sz50 = ts.get_sz50s()"
   ]
  },
  {
   "cell_type": "code",
   "execution_count": 3,
   "metadata": {},
   "outputs": [],
   "source": [
    "sz50"
   ]
  },
  {
   "cell_type": "code",
   "execution_count": 4,
   "metadata": {
    "scrolled": true
   },
   "outputs": [
    {
     "ename": "AttributeError",
     "evalue": "'NoneType' object has no attribute 'tail'",
     "output_type": "error",
     "traceback": [
      "\u001b[1;31m---------------------------------------------------------------------------\u001b[0m",
      "\u001b[1;31mAttributeError\u001b[0m                            Traceback (most recent call last)",
      "\u001b[1;32m<ipython-input-4-50908014ff1f>\u001b[0m in \u001b[0;36m<module>\u001b[1;34m\u001b[0m\n\u001b[0;32m      1\u001b[0m print(all_data.tail(),'\\n',\n\u001b[0;32m      2\u001b[0m       \u001b[0mst\u001b[0m\u001b[1;33m.\u001b[0m\u001b[0mhead\u001b[0m\u001b[1;33m(\u001b[0m\u001b[1;33m)\u001b[0m\u001b[1;33m,\u001b[0m\u001b[1;34m'\\n'\u001b[0m\u001b[1;33m,\u001b[0m\u001b[1;33m\u001b[0m\u001b[1;33m\u001b[0m\u001b[0m\n\u001b[1;32m----> 3\u001b[1;33m       sz50.tail())\n\u001b[0m\u001b[0;32m      4\u001b[0m \u001b[0mprint\u001b[0m\u001b[1;33m(\u001b[0m\u001b[1;34m'\\n'\u001b[0m\u001b[1;33m,\u001b[0m \u001b[0mall_data\u001b[0m\u001b[1;33m.\u001b[0m\u001b[0mmarket\u001b[0m\u001b[1;33m.\u001b[0m\u001b[0munique\u001b[0m\u001b[1;33m(\u001b[0m\u001b[1;33m)\u001b[0m\u001b[1;33m,\u001b[0m \u001b[0mall_data\u001b[0m\u001b[1;33m.\u001b[0m\u001b[0mexchange\u001b[0m\u001b[1;33m.\u001b[0m\u001b[0munique\u001b[0m\u001b[1;33m(\u001b[0m\u001b[1;33m)\u001b[0m\u001b[1;33m)\u001b[0m\u001b[1;33m\u001b[0m\u001b[1;33m\u001b[0m\u001b[0m\n",
      "\u001b[1;31mAttributeError\u001b[0m: 'NoneType' object has no attribute 'tail'"
     ]
    }
   ],
   "source": [
    "print(all_data.tail(),'\\n',\n",
    "      st.head(),'\\n',\n",
    "      sz50.tail())\n",
    "print('\\n', all_data.market.unique(), all_data.exchange.unique())"
   ]
  },
  {
   "cell_type": "code",
   "execution_count": 3,
   "metadata": {},
   "outputs": [],
   "source": [
    "def code_to_tscode(code):\n",
    "    return all_data[all_data.symbol == code].iat[0,0]\n",
    "\n",
    "sz50['ts_code'] = sz50['code'].apply(code_to_tscode)\n",
    "st['ts_code'] = st['code'].apply(code_to_tscode)"
   ]
  },
  {
   "cell_type": "code",
   "execution_count": 4,
   "metadata": {
    "scrolled": true
   },
   "outputs": [
    {
     "name": "stdout",
     "output_type": "stream",
     "text": [
      "         date    code  name    ts_code\n",
      "0  2019-02-12  600000  浦发银行  600000.SH\n",
      "1  2019-02-12  600016  民生银行  600016.SH \n",
      "       code   name    ts_code\n",
      "85  601798  *ST蓝科  601798.SH\n",
      "86  601975   ST长油  601975.SH\n"
     ]
    }
   ],
   "source": [
    "print(sz50.head(2),'\\n',st.tail(2))"
   ]
  },
  {
   "cell_type": "code",
   "execution_count": 5,
   "metadata": {
    "scrolled": true
   },
   "outputs": [],
   "source": [
    "def concat_bs(df):\n",
    "    df_list = []\n",
    "    for _, row in df.iterrows():\n",
    "        bs = pro.balancesheet(\n",
    "                ts_code=row.ts_code, \n",
    "                period='20171231', \n",
    "                fields='ts_code, end_date, total_cur_liab, total_ncl')\n",
    "        bs.insert(loc=1, column='name', value=row['name'])\n",
    "        df_list.append(bs) \n",
    "    return pd.concat(df_list)"
   ]
  },
  {
   "cell_type": "code",
   "execution_count": 6,
   "metadata": {
    "scrolled": false
   },
   "outputs": [],
   "source": [
    "sz50_bs = concat_bs(sz50)"
   ]
  },
  {
   "cell_type": "code",
   "execution_count": 16,
   "metadata": {},
   "outputs": [],
   "source": [
    "st1, st2 = st.iloc[:50], st.iloc[50:]"
   ]
  },
  {
   "cell_type": "code",
   "execution_count": 20,
   "metadata": {
    "scrolled": true
   },
   "outputs": [],
   "source": [
    "st1_bs = concat_bs(st1)"
   ]
  },
  {
   "cell_type": "code",
   "execution_count": 21,
   "metadata": {},
   "outputs": [],
   "source": [
    "st2_bs = concat_bs(st2)"
   ]
  },
  {
   "cell_type": "code",
   "execution_count": 28,
   "metadata": {},
   "outputs": [],
   "source": [
    "st_bs = pd.concat([st1_bs, st2_bs])"
   ]
  },
  {
   "cell_type": "code",
   "execution_count": 29,
   "metadata": {
    "scrolled": true
   },
   "outputs": [
    {
     "name": "stdout",
     "output_type": "stream",
     "text": [
      "     ts_code  name  end_date  total_cur_liab     total_ncl\n",
      "0  600000.SH  浦发银行  20171231             NaN           NaN\n",
      "0  600016.SH  民生银行  20171231             NaN           NaN\n",
      "0  600019.SH  宝钢股份  20171231    1.632066e+11  1.255559e+10\n",
      "0  600028.SH  中国石化  20171231    5.794460e+11  1.619880e+11\n",
      "0  600029.SH  南方航空  20171231    6.957700e+10  8.658700e+10 \n",
      "      ts_code   name  end_date  total_cur_liab    total_ncl\n",
      "0  000048.SZ  *ST康达  20171231    1.897544e+09  7.70009e+08\n",
      "0  000409.SZ  *ST地矿  20171231    4.016936e+09  8.72076e+08\n",
      "0  000422.SZ  *ST宜化  20171231    2.556959e+10  5.41397e+09\n",
      "0  000585.SZ  *ST东电  20171231    3.945518e+08  1.06326e+08\n",
      "0  000655.SZ  *ST金岭  20171231    2.948239e+08  5.70414e+07\n"
     ]
    }
   ],
   "source": [
    "print(sz50_bs.head(), '\\n', st_bs.head())"
   ]
  },
  {
   "cell_type": "code",
   "execution_count": 39,
   "metadata": {},
   "outputs": [],
   "source": [
    "sz50_bs.to_csv('csv\\sz50_debt.csv', encoding='utf-8-sig')\n",
    "st_bs.to_csv('csv\\st_debt.csv', encoding='utf-8-sig')"
   ]
  },
  {
   "cell_type": "code",
   "execution_count": 96,
   "metadata": {},
   "outputs": [],
   "source": [
    "db = pro.daily_basic(ts_code='', \n",
    "                    trade_date='20171229', \n",
    "                    fields='ts_code,trade_date,close, total_share,float_share,total_mv,circ_mv')"
   ]
  },
  {
   "cell_type": "code",
   "execution_count": 21,
   "metadata": {},
   "outputs": [],
   "source": [
    "df = pro.index_weight(index_code='399300.SZ', start_date='20190429', end_date='20190510')"
   ]
  },
  {
   "cell_type": "code",
   "execution_count": 37,
   "metadata": {
    "collapsed": true
   },
   "outputs": [
    {
     "data": {
      "text/html": [
       "<div>\n",
       "<style scoped>\n",
       "    .dataframe tbody tr th:only-of-type {\n",
       "        vertical-align: middle;\n",
       "    }\n",
       "\n",
       "    .dataframe tbody tr th {\n",
       "        vertical-align: top;\n",
       "    }\n",
       "\n",
       "    .dataframe thead th {\n",
       "        text-align: right;\n",
       "    }\n",
       "</style>\n",
       "<table border=\"1\" class=\"dataframe\">\n",
       "  <thead>\n",
       "    <tr style=\"text-align: right;\">\n",
       "      <th></th>\n",
       "      <th>index_code</th>\n",
       "      <th>con_code</th>\n",
       "      <th>trade_date</th>\n",
       "      <th>weight</th>\n",
       "    </tr>\n",
       "  </thead>\n",
       "  <tbody>\n",
       "    <tr>\n",
       "      <th>0</th>\n",
       "      <td>399300.SZ</td>\n",
       "      <td>601238.SH</td>\n",
       "      <td>20190430</td>\n",
       "      <td>0.095</td>\n",
       "    </tr>\n",
       "    <tr>\n",
       "      <th>1</th>\n",
       "      <td>399300.SZ</td>\n",
       "      <td>601229.SH</td>\n",
       "      <td>20190430</td>\n",
       "      <td>0.567</td>\n",
       "    </tr>\n",
       "    <tr>\n",
       "      <th>2</th>\n",
       "      <td>399300.SZ</td>\n",
       "      <td>601228.SH</td>\n",
       "      <td>20190430</td>\n",
       "      <td>0.071</td>\n",
       "    </tr>\n",
       "    <tr>\n",
       "      <th>3</th>\n",
       "      <td>399300.SZ</td>\n",
       "      <td>601225.SH</td>\n",
       "      <td>20190430</td>\n",
       "      <td>0.295</td>\n",
       "    </tr>\n",
       "    <tr>\n",
       "      <th>4</th>\n",
       "      <td>399300.SZ</td>\n",
       "      <td>601212.SH</td>\n",
       "      <td>20190430</td>\n",
       "      <td>0.028</td>\n",
       "    </tr>\n",
       "    <tr>\n",
       "      <th>5</th>\n",
       "      <td>399300.SZ</td>\n",
       "      <td>601211.SH</td>\n",
       "      <td>20190430</td>\n",
       "      <td>0.695</td>\n",
       "    </tr>\n",
       "    <tr>\n",
       "      <th>6</th>\n",
       "      <td>399300.SZ</td>\n",
       "      <td>601198.SH</td>\n",
       "      <td>20190430</td>\n",
       "      <td>0.150</td>\n",
       "    </tr>\n",
       "    <tr>\n",
       "      <th>7</th>\n",
       "      <td>399300.SZ</td>\n",
       "      <td>601216.SH</td>\n",
       "      <td>20190430</td>\n",
       "      <td>0.100</td>\n",
       "    </tr>\n",
       "    <tr>\n",
       "      <th>8</th>\n",
       "      <td>399300.SZ</td>\n",
       "      <td>601169.SH</td>\n",
       "      <td>20190430</td>\n",
       "      <td>0.772</td>\n",
       "    </tr>\n",
       "    <tr>\n",
       "      <th>9</th>\n",
       "      <td>399300.SZ</td>\n",
       "      <td>601166.SH</td>\n",
       "      <td>20190430</td>\n",
       "      <td>2.032</td>\n",
       "    </tr>\n",
       "    <tr>\n",
       "      <th>10</th>\n",
       "      <td>399300.SZ</td>\n",
       "      <td>601155.SH</td>\n",
       "      <td>20190430</td>\n",
       "      <td>0.293</td>\n",
       "    </tr>\n",
       "    <tr>\n",
       "      <th>11</th>\n",
       "      <td>399300.SZ</td>\n",
       "      <td>600188.SH</td>\n",
       "      <td>20190430</td>\n",
       "      <td>0.083</td>\n",
       "    </tr>\n",
       "    <tr>\n",
       "      <th>12</th>\n",
       "      <td>399300.SZ</td>\n",
       "      <td>600157.SH</td>\n",
       "      <td>20190430</td>\n",
       "      <td>0.105</td>\n",
       "    </tr>\n",
       "    <tr>\n",
       "      <th>13</th>\n",
       "      <td>399300.SZ</td>\n",
       "      <td>600153.SH</td>\n",
       "      <td>20190430</td>\n",
       "      <td>0.134</td>\n",
       "    </tr>\n",
       "    <tr>\n",
       "      <th>14</th>\n",
       "      <td>399300.SZ</td>\n",
       "      <td>600118.SH</td>\n",
       "      <td>20190430</td>\n",
       "      <td>0.112</td>\n",
       "    </tr>\n",
       "    <tr>\n",
       "      <th>15</th>\n",
       "      <td>399300.SZ</td>\n",
       "      <td>600115.SH</td>\n",
       "      <td>20190430</td>\n",
       "      <td>0.220</td>\n",
       "    </tr>\n",
       "    <tr>\n",
       "      <th>16</th>\n",
       "      <td>399300.SZ</td>\n",
       "      <td>600109.SH</td>\n",
       "      <td>20190430</td>\n",
       "      <td>0.203</td>\n",
       "    </tr>\n",
       "    <tr>\n",
       "      <th>17</th>\n",
       "      <td>399300.SZ</td>\n",
       "      <td>600104.SH</td>\n",
       "      <td>20190430</td>\n",
       "      <td>0.785</td>\n",
       "    </tr>\n",
       "    <tr>\n",
       "      <th>18</th>\n",
       "      <td>399300.SZ</td>\n",
       "      <td>600100.SH</td>\n",
       "      <td>20190430</td>\n",
       "      <td>0.177</td>\n",
       "    </tr>\n",
       "    <tr>\n",
       "      <th>19</th>\n",
       "      <td>399300.SZ</td>\n",
       "      <td>600111.SH</td>\n",
       "      <td>20190430</td>\n",
       "      <td>0.183</td>\n",
       "    </tr>\n",
       "    <tr>\n",
       "      <th>20</th>\n",
       "      <td>399300.SZ</td>\n",
       "      <td>600089.SH</td>\n",
       "      <td>20190430</td>\n",
       "      <td>0.235</td>\n",
       "    </tr>\n",
       "    <tr>\n",
       "      <th>21</th>\n",
       "      <td>399300.SZ</td>\n",
       "      <td>600085.SH</td>\n",
       "      <td>20190430</td>\n",
       "      <td>0.140</td>\n",
       "    </tr>\n",
       "    <tr>\n",
       "      <th>22</th>\n",
       "      <td>399300.SZ</td>\n",
       "      <td>600068.SH</td>\n",
       "      <td>20190430</td>\n",
       "      <td>0.154</td>\n",
       "    </tr>\n",
       "    <tr>\n",
       "      <th>23</th>\n",
       "      <td>399300.SZ</td>\n",
       "      <td>600066.SH</td>\n",
       "      <td>20190430</td>\n",
       "      <td>0.155</td>\n",
       "    </tr>\n",
       "    <tr>\n",
       "      <th>24</th>\n",
       "      <td>399300.SZ</td>\n",
       "      <td>600050.SH</td>\n",
       "      <td>20190430</td>\n",
       "      <td>0.508</td>\n",
       "    </tr>\n",
       "    <tr>\n",
       "      <th>25</th>\n",
       "      <td>399300.SZ</td>\n",
       "      <td>600048.SH</td>\n",
       "      <td>20190430</td>\n",
       "      <td>0.788</td>\n",
       "    </tr>\n",
       "    <tr>\n",
       "      <th>26</th>\n",
       "      <td>399300.SZ</td>\n",
       "      <td>600038.SH</td>\n",
       "      <td>20190430</td>\n",
       "      <td>0.103</td>\n",
       "    </tr>\n",
       "    <tr>\n",
       "      <th>27</th>\n",
       "      <td>399300.SZ</td>\n",
       "      <td>600061.SH</td>\n",
       "      <td>20190430</td>\n",
       "      <td>0.096</td>\n",
       "    </tr>\n",
       "    <tr>\n",
       "      <th>28</th>\n",
       "      <td>399300.SZ</td>\n",
       "      <td>600036.SH</td>\n",
       "      <td>20190430</td>\n",
       "      <td>2.908</td>\n",
       "    </tr>\n",
       "    <tr>\n",
       "      <th>29</th>\n",
       "      <td>399300.SZ</td>\n",
       "      <td>600031.SH</td>\n",
       "      <td>20190430</td>\n",
       "      <td>0.588</td>\n",
       "    </tr>\n",
       "    <tr>\n",
       "      <th>...</th>\n",
       "      <td>...</td>\n",
       "      <td>...</td>\n",
       "      <td>...</td>\n",
       "      <td>...</td>\n",
       "    </tr>\n",
       "    <tr>\n",
       "      <th>270</th>\n",
       "      <td>399300.SZ</td>\n",
       "      <td>000768.SZ</td>\n",
       "      <td>20190430</td>\n",
       "      <td>0.180</td>\n",
       "    </tr>\n",
       "    <tr>\n",
       "      <th>271</th>\n",
       "      <td>399300.SZ</td>\n",
       "      <td>000728.SZ</td>\n",
       "      <td>20190430</td>\n",
       "      <td>0.162</td>\n",
       "    </tr>\n",
       "    <tr>\n",
       "      <th>272</th>\n",
       "      <td>399300.SZ</td>\n",
       "      <td>000725.SZ</td>\n",
       "      <td>20190430</td>\n",
       "      <td>0.698</td>\n",
       "    </tr>\n",
       "    <tr>\n",
       "      <th>273</th>\n",
       "      <td>399300.SZ</td>\n",
       "      <td>000709.SZ</td>\n",
       "      <td>20190430</td>\n",
       "      <td>0.111</td>\n",
       "    </tr>\n",
       "    <tr>\n",
       "      <th>274</th>\n",
       "      <td>399300.SZ</td>\n",
       "      <td>000703.SZ</td>\n",
       "      <td>20190430</td>\n",
       "      <td>0.144</td>\n",
       "    </tr>\n",
       "    <tr>\n",
       "      <th>275</th>\n",
       "      <td>399300.SZ</td>\n",
       "      <td>000671.SZ</td>\n",
       "      <td>20190430</td>\n",
       "      <td>0.091</td>\n",
       "    </tr>\n",
       "    <tr>\n",
       "      <th>276</th>\n",
       "      <td>399300.SZ</td>\n",
       "      <td>000661.SZ</td>\n",
       "      <td>20190430</td>\n",
       "      <td>0.339</td>\n",
       "    </tr>\n",
       "    <tr>\n",
       "      <th>277</th>\n",
       "      <td>399300.SZ</td>\n",
       "      <td>000651.SZ</td>\n",
       "      <td>20190430</td>\n",
       "      <td>2.189</td>\n",
       "    </tr>\n",
       "    <tr>\n",
       "      <th>278</th>\n",
       "      <td>399300.SZ</td>\n",
       "      <td>000630.SZ</td>\n",
       "      <td>20190430</td>\n",
       "      <td>0.129</td>\n",
       "    </tr>\n",
       "    <tr>\n",
       "      <th>279</th>\n",
       "      <td>399300.SZ</td>\n",
       "      <td>000627.SZ</td>\n",
       "      <td>20190430</td>\n",
       "      <td>0.084</td>\n",
       "    </tr>\n",
       "    <tr>\n",
       "      <th>280</th>\n",
       "      <td>399300.SZ</td>\n",
       "      <td>000625.SZ</td>\n",
       "      <td>20190430</td>\n",
       "      <td>0.136</td>\n",
       "    </tr>\n",
       "    <tr>\n",
       "      <th>281</th>\n",
       "      <td>399300.SZ</td>\n",
       "      <td>000568.SZ</td>\n",
       "      <td>20190430</td>\n",
       "      <td>0.467</td>\n",
       "    </tr>\n",
       "    <tr>\n",
       "      <th>282</th>\n",
       "      <td>399300.SZ</td>\n",
       "      <td>000553.SZ</td>\n",
       "      <td>20190430</td>\n",
       "      <td>0.023</td>\n",
       "    </tr>\n",
       "    <tr>\n",
       "      <th>283</th>\n",
       "      <td>399300.SZ</td>\n",
       "      <td>000538.SZ</td>\n",
       "      <td>20190430</td>\n",
       "      <td>0.377</td>\n",
       "    </tr>\n",
       "    <tr>\n",
       "      <th>284</th>\n",
       "      <td>399300.SZ</td>\n",
       "      <td>000503.SZ</td>\n",
       "      <td>20190430</td>\n",
       "      <td>0.131</td>\n",
       "    </tr>\n",
       "    <tr>\n",
       "      <th>285</th>\n",
       "      <td>399300.SZ</td>\n",
       "      <td>000425.SZ</td>\n",
       "      <td>20190430</td>\n",
       "      <td>0.176</td>\n",
       "    </tr>\n",
       "    <tr>\n",
       "      <th>286</th>\n",
       "      <td>399300.SZ</td>\n",
       "      <td>000423.SZ</td>\n",
       "      <td>20190430</td>\n",
       "      <td>0.164</td>\n",
       "    </tr>\n",
       "    <tr>\n",
       "      <th>287</th>\n",
       "      <td>399300.SZ</td>\n",
       "      <td>000415.SZ</td>\n",
       "      <td>20190430</td>\n",
       "      <td>0.067</td>\n",
       "    </tr>\n",
       "    <tr>\n",
       "      <th>288</th>\n",
       "      <td>399300.SZ</td>\n",
       "      <td>000413.SZ</td>\n",
       "      <td>20190430</td>\n",
       "      <td>0.194</td>\n",
       "    </tr>\n",
       "    <tr>\n",
       "      <th>289</th>\n",
       "      <td>399300.SZ</td>\n",
       "      <td>000408.SZ</td>\n",
       "      <td>20190430</td>\n",
       "      <td>0.050</td>\n",
       "    </tr>\n",
       "    <tr>\n",
       "      <th>290</th>\n",
       "      <td>399300.SZ</td>\n",
       "      <td>000402.SZ</td>\n",
       "      <td>20190430</td>\n",
       "      <td>0.081</td>\n",
       "    </tr>\n",
       "    <tr>\n",
       "      <th>291</th>\n",
       "      <td>399300.SZ</td>\n",
       "      <td>000338.SZ</td>\n",
       "      <td>20190430</td>\n",
       "      <td>0.490</td>\n",
       "    </tr>\n",
       "    <tr>\n",
       "      <th>292</th>\n",
       "      <td>399300.SZ</td>\n",
       "      <td>000333.SZ</td>\n",
       "      <td>20190430</td>\n",
       "      <td>1.989</td>\n",
       "    </tr>\n",
       "    <tr>\n",
       "      <th>293</th>\n",
       "      <td>399300.SZ</td>\n",
       "      <td>000166.SZ</td>\n",
       "      <td>20190430</td>\n",
       "      <td>0.284</td>\n",
       "    </tr>\n",
       "    <tr>\n",
       "      <th>294</th>\n",
       "      <td>399300.SZ</td>\n",
       "      <td>000157.SZ</td>\n",
       "      <td>20190430</td>\n",
       "      <td>0.182</td>\n",
       "    </tr>\n",
       "    <tr>\n",
       "      <th>295</th>\n",
       "      <td>399300.SZ</td>\n",
       "      <td>000100.SZ</td>\n",
       "      <td>20190430</td>\n",
       "      <td>0.319</td>\n",
       "    </tr>\n",
       "    <tr>\n",
       "      <th>296</th>\n",
       "      <td>399300.SZ</td>\n",
       "      <td>000069.SZ</td>\n",
       "      <td>20190430</td>\n",
       "      <td>0.267</td>\n",
       "    </tr>\n",
       "    <tr>\n",
       "      <th>297</th>\n",
       "      <td>399300.SZ</td>\n",
       "      <td>000063.SZ</td>\n",
       "      <td>20190430</td>\n",
       "      <td>0.626</td>\n",
       "    </tr>\n",
       "    <tr>\n",
       "      <th>298</th>\n",
       "      <td>399300.SZ</td>\n",
       "      <td>000002.SZ</td>\n",
       "      <td>20190430</td>\n",
       "      <td>1.149</td>\n",
       "    </tr>\n",
       "    <tr>\n",
       "      <th>299</th>\n",
       "      <td>399300.SZ</td>\n",
       "      <td>000001.SZ</td>\n",
       "      <td>20190430</td>\n",
       "      <td>0.973</td>\n",
       "    </tr>\n",
       "  </tbody>\n",
       "</table>\n",
       "<p>300 rows × 4 columns</p>\n",
       "</div>"
      ],
      "text/plain": [
       "    index_code   con_code trade_date  weight\n",
       "0    399300.SZ  601238.SH   20190430   0.095\n",
       "1    399300.SZ  601229.SH   20190430   0.567\n",
       "2    399300.SZ  601228.SH   20190430   0.071\n",
       "3    399300.SZ  601225.SH   20190430   0.295\n",
       "4    399300.SZ  601212.SH   20190430   0.028\n",
       "5    399300.SZ  601211.SH   20190430   0.695\n",
       "6    399300.SZ  601198.SH   20190430   0.150\n",
       "7    399300.SZ  601216.SH   20190430   0.100\n",
       "8    399300.SZ  601169.SH   20190430   0.772\n",
       "9    399300.SZ  601166.SH   20190430   2.032\n",
       "10   399300.SZ  601155.SH   20190430   0.293\n",
       "11   399300.SZ  600188.SH   20190430   0.083\n",
       "12   399300.SZ  600157.SH   20190430   0.105\n",
       "13   399300.SZ  600153.SH   20190430   0.134\n",
       "14   399300.SZ  600118.SH   20190430   0.112\n",
       "15   399300.SZ  600115.SH   20190430   0.220\n",
       "16   399300.SZ  600109.SH   20190430   0.203\n",
       "17   399300.SZ  600104.SH   20190430   0.785\n",
       "18   399300.SZ  600100.SH   20190430   0.177\n",
       "19   399300.SZ  600111.SH   20190430   0.183\n",
       "20   399300.SZ  600089.SH   20190430   0.235\n",
       "21   399300.SZ  600085.SH   20190430   0.140\n",
       "22   399300.SZ  600068.SH   20190430   0.154\n",
       "23   399300.SZ  600066.SH   20190430   0.155\n",
       "24   399300.SZ  600050.SH   20190430   0.508\n",
       "25   399300.SZ  600048.SH   20190430   0.788\n",
       "26   399300.SZ  600038.SH   20190430   0.103\n",
       "27   399300.SZ  600061.SH   20190430   0.096\n",
       "28   399300.SZ  600036.SH   20190430   2.908\n",
       "29   399300.SZ  600031.SH   20190430   0.588\n",
       "..         ...        ...        ...     ...\n",
       "270  399300.SZ  000768.SZ   20190430   0.180\n",
       "271  399300.SZ  000728.SZ   20190430   0.162\n",
       "272  399300.SZ  000725.SZ   20190430   0.698\n",
       "273  399300.SZ  000709.SZ   20190430   0.111\n",
       "274  399300.SZ  000703.SZ   20190430   0.144\n",
       "275  399300.SZ  000671.SZ   20190430   0.091\n",
       "276  399300.SZ  000661.SZ   20190430   0.339\n",
       "277  399300.SZ  000651.SZ   20190430   2.189\n",
       "278  399300.SZ  000630.SZ   20190430   0.129\n",
       "279  399300.SZ  000627.SZ   20190430   0.084\n",
       "280  399300.SZ  000625.SZ   20190430   0.136\n",
       "281  399300.SZ  000568.SZ   20190430   0.467\n",
       "282  399300.SZ  000553.SZ   20190430   0.023\n",
       "283  399300.SZ  000538.SZ   20190430   0.377\n",
       "284  399300.SZ  000503.SZ   20190430   0.131\n",
       "285  399300.SZ  000425.SZ   20190430   0.176\n",
       "286  399300.SZ  000423.SZ   20190430   0.164\n",
       "287  399300.SZ  000415.SZ   20190430   0.067\n",
       "288  399300.SZ  000413.SZ   20190430   0.194\n",
       "289  399300.SZ  000408.SZ   20190430   0.050\n",
       "290  399300.SZ  000402.SZ   20190430   0.081\n",
       "291  399300.SZ  000338.SZ   20190430   0.490\n",
       "292  399300.SZ  000333.SZ   20190430   1.989\n",
       "293  399300.SZ  000166.SZ   20190430   0.284\n",
       "294  399300.SZ  000157.SZ   20190430   0.182\n",
       "295  399300.SZ  000100.SZ   20190430   0.319\n",
       "296  399300.SZ  000069.SZ   20190430   0.267\n",
       "297  399300.SZ  000063.SZ   20190430   0.626\n",
       "298  399300.SZ  000002.SZ   20190430   1.149\n",
       "299  399300.SZ  000001.SZ   20190430   0.973\n",
       "\n",
       "[300 rows x 4 columns]"
      ]
     },
     "execution_count": 37,
     "metadata": {},
     "output_type": "execute_result"
    }
   ],
   "source": [
    "df"
   ]
  },
  {
   "cell_type": "code",
   "execution_count": 62,
   "metadata": {},
   "outputs": [],
   "source": [
    "x = df.con_code.to_json('temp.json',orient=\"records\",\n",
    "           lines=True)"
   ]
  },
  {
   "cell_type": "code",
   "execution_count": 64,
   "metadata": {},
   "outputs": [],
   "source": [
    "import json"
   ]
  },
  {
   "cell_type": "code",
   "execution_count": 65,
   "metadata": {},
   "outputs": [
    {
     "ename": "TypeError",
     "evalue": "dump() missing 1 required positional argument: 'fp'",
     "output_type": "error",
     "traceback": [
      "\u001b[1;31m---------------------------------------------------------------------------\u001b[0m",
      "\u001b[1;31mTypeError\u001b[0m                                 Traceback (most recent call last)",
      "\u001b[1;32m<ipython-input-65-c127e623b126>\u001b[0m in \u001b[0;36m<module>\u001b[1;34m\u001b[0m\n\u001b[1;32m----> 1\u001b[1;33m \u001b[0mjson\u001b[0m\u001b[1;33m.\u001b[0m\u001b[0mdump\u001b[0m\u001b[1;33m(\u001b[0m\u001b[0mx\u001b[0m\u001b[1;33m,\u001b[0m \u001b[0mindent\u001b[0m\u001b[1;33m=\u001b[0m\u001b[1;36m2\u001b[0m\u001b[1;33m)\u001b[0m\u001b[1;33m\u001b[0m\u001b[1;33m\u001b[0m\u001b[0m\n\u001b[0m",
      "\u001b[1;31mTypeError\u001b[0m: dump() missing 1 required positional argument: 'fp'"
     ]
    }
   ],
   "source": [
    "json.dump(x, indent=2)"
   ]
  },
  {
   "cell_type": "code",
   "execution_count": 66,
   "metadata": {},
   "outputs": [
    {
     "data": {
      "text/plain": [
       "'\"601238.SH\",\"601229.SH\",\"601228.SH\",\"601225.SH\",\"601212.SH\",\"601211.SH\",\"601198.SH\",\"601216.SH\",\"601169.SH\",\"601166.SH\",\"601155.SH\",\"600188.SH\",\"600157.SH\",\"600153.SH\",\"600118.SH\",\"600115.SH\",\"600109.SH\",\"600104.SH\",\"600100.SH\",\"600111.SH\",\"600089.SH\",\"600085.SH\",\"600068.SH\",\"600066.SH\",\"600050.SH\",\"600048.SH\",\"600038.SH\",\"600061.SH\",\"600036.SH\",\"600031.SH\",\"600030.SH\",\"600029.SH\",\"600028.SH\",\"600027.SH\",\"600025.SH\",\"600023.SH\",\"600019.SH\",\"600018.SH\",\"600016.SH\",\"600015.SH\",\"600010.SH\",\"600009.SH\",\"600004.SH\",\"600011.SH\",\"600000.SH\",\"300433.SZ\",\"300408.SZ\",\"300296.SZ\",\"300251.SZ\",\"300144.SZ\",\"300142.SZ\",\"300136.SZ\",\"300124.SZ\",\"300122.SZ\",\"300072.SZ\",\"300070.SZ\",\"300059.SZ\",\"300024.SZ\",\"300017.SZ\",\"300015.SZ\",\"300033.SZ\",\"300003.SZ\",\"002925.SZ\",\"002797.SZ\",\"002773.SZ\",\"002736.SZ\",\"002714.SZ\",\"002673.SZ\",\"002624.SZ\",\"002602.SZ\",\"002601.SZ\",\"002625.SZ\",\"002594.SZ\",\"002572.SZ\",\"002558.SZ\",\"002555.SZ\",\"002508.SZ\",\"002493.SZ\",\"002475.SZ\",\"002468.SZ\",\"002466.SZ\",\"002460.SZ\",\"002456.SZ\",\"002450.SZ\",\"002422.SZ\",\"002415.SZ\",\"002411.SZ\",\"002352.SZ\",\"002311.SZ\",\"002310.SZ\",\"002304.SZ\",\"002294.SZ\",\"002271.SZ\",\"002252.SZ\",\"603993.SH\",\"603986.SH\",\"603858.SH\",\"603833.SH\",\"603799.SH\",\"603288.SH\",\"603260.SH\",\"603259.SH\",\"603160.SH\",\"603156.SH\",\"601998.SH\",\"601997.SH\",\"601992.SH\",\"601991.SH\",\"601989.SH\",\"601988.SH\",\"601985.SH\",\"601939.SH\",\"601933.SH\",\"601919.SH\",\"601901.SH\",\"601899.SH\",\"601898.SH\",\"601888.SH\",\"601881.SH\",\"601878.SH\",\"601877.SH\",\"601857.SH\",\"601838.SH\",\"601828.SH\",\"601818.SH\",\"601808.SH\",\"601800.SH\",\"601788.SH\",\"601766.SH\",\"601727.SH\",\"601688.SH\",\"601669.SH\",\"601668.SH\",\"601633.SH\",\"601628.SH\",\"601618.SH\",\"601611.SH\",\"601607.SH\",\"601601.SH\",\"601600.SH\",\"601555.SH\",\"601398.SH\",\"601390.SH\",\"601377.SH\",\"601360.SH\",\"601336.SH\",\"601333.SH\",\"601328.SH\",\"601318.SH\",\"601288.SH\",\"601186.SH\",\"601138.SH\",\"601117.SH\",\"601111.SH\",\"601108.SH\",\"601088.SH\",\"601066.SH\",\"601021.SH\",\"601018.SH\",\"601012.SH\",\"601009.SH\",\"601006.SH\",\"600999.SH\",\"600977.SH\",\"600958.SH\",\"600926.SH\",\"600998.SH\",\"600919.SH\",\"600909.SH\",\"600900.SH\",\"600893.SH\",\"600887.SH\",\"600867.SH\",\"600837.SH\",\"600816.SH\",\"600886.SH\",\"600809.SH\",\"600795.SH\",\"600760.SH\",\"600741.SH\",\"600739.SH\",\"600705.SH\",\"600704.SH\",\"600703.SH\",\"600690.SH\",\"600688.SH\",\"600674.SH\",\"600660.SH\",\"600637.SH\",\"600606.SH\",\"600588.SH\",\"600585.SH\",\"600583.SH\",\"600570.SH\",\"600566.SH\",\"600549.SH\",\"600547.SH\",\"600535.SH\",\"600519.SH\",\"600518.SH\",\"600516.SH\",\"600522.SH\",\"600498.SH\",\"600489.SH\",\"600487.SH\",\"600482.SH\",\"600438.SH\",\"600436.SH\",\"600415.SH\",\"600406.SH\",\"600398.SH\",\"600390.SH\",\"600383.SH\",\"600372.SH\",\"600369.SH\",\"600362.SH\",\"600352.SH\",\"600346.SH\",\"600340.SH\",\"600339.SH\",\"600332.SH\",\"600309.SH\",\"600297.SH\",\"600276.SH\",\"600271.SH\",\"600233.SH\",\"600221.SH\",\"600219.SH\",\"600208.SH\",\"600196.SH\",\"600177.SH\",\"600176.SH\",\"600170.SH\",\"002241.SZ\",\"002236.SZ\",\"002230.SZ\",\"002202.SZ\",\"002179.SZ\",\"002153.SZ\",\"002146.SZ\",\"002142.SZ\",\"002120.SZ\",\"002085.SZ\",\"002081.SZ\",\"002065.SZ\",\"002050.SZ\",\"002044.SZ\",\"002032.SZ\",\"002027.SZ\",\"002024.SZ\",\"002008.SZ\",\"002007.SZ\",\"002001.SZ\",\"001979.SZ\",\"001965.SZ\",\"000983.SZ\",\"000963.SZ\",\"000961.SZ\",\"000959.SZ\",\"000938.SZ\",\"000898.SZ\",\"000895.SZ\",\"000876.SZ\",\"000858.SZ\",\"000839.SZ\",\"000826.SZ\",\"000792.SZ\",\"000786.SZ\",\"000783.SZ\",\"000776.SZ\",\"000768.SZ\",\"000728.SZ\",\"000725.SZ\",\"000709.SZ\",\"000703.SZ\",\"000671.SZ\",\"000661.SZ\",\"000651.SZ\",\"000630.SZ\",\"000627.SZ\",\"000625.SZ\",\"000568.SZ\",\"000553.SZ\",\"000538.SZ\",\"000503.SZ\",\"000425.SZ\",\"000423.SZ\",\"000415.SZ\",\"000413.SZ\",\"000408.SZ\",\"000402.SZ\",\"000338.SZ\",\"000333.SZ\",\"000166.SZ\",\"000157.SZ\",\"000100.SZ\",\"000069.SZ\",\"000063.SZ\",\"000002.SZ\",\"000001.SZ\"'"
      ]
     },
     "execution_count": 66,
     "metadata": {},
     "output_type": "execute_result"
    }
   ],
   "source": [
    "df.con_code.to_json(orient=\"records\",\n",
    "           lines=True)"
   ]
  },
  {
   "cell_type": "code",
   "execution_count": 67,
   "metadata": {},
   "outputs": [],
   "source": [
    "df = df.con_code"
   ]
  },
  {
   "cell_type": "code",
   "execution_count": 71,
   "metadata": {},
   "outputs": [
    {
     "data": {
      "text/plain": [
       "'601238.SH'"
      ]
     },
     "execution_count": 71,
     "metadata": {},
     "output_type": "execute_result"
    }
   ],
   "source": [
    "df[0]"
   ]
  },
  {
   "cell_type": "code",
   "execution_count": 74,
   "metadata": {},
   "outputs": [
    {
     "ename": "AttributeError",
     "evalue": "'str' object has no attribute 'to_text'",
     "output_type": "error",
     "traceback": [
      "\u001b[1;31m---------------------------------------------------------------------------\u001b[0m",
      "\u001b[1;31mAttributeError\u001b[0m                            Traceback (most recent call last)",
      "\u001b[1;32m<ipython-input-74-7f1acdb54df1>\u001b[0m in \u001b[0;36m<module>\u001b[1;34m\u001b[0m\n\u001b[0;32m      2\u001b[0m \u001b[1;33m\u001b[0m\u001b[0m\n\u001b[0;32m      3\u001b[0m \u001b[1;32mfor\u001b[0m \u001b[0mi\u001b[0m \u001b[1;32min\u001b[0m \u001b[0mrange\u001b[0m\u001b[1;33m(\u001b[0m\u001b[0mlen\u001b[0m\u001b[1;33m(\u001b[0m\u001b[0mdf\u001b[0m\u001b[1;33m)\u001b[0m\u001b[1;33m)\u001b[0m\u001b[1;33m:\u001b[0m\u001b[1;33m\u001b[0m\u001b[1;33m\u001b[0m\u001b[0m\n\u001b[1;32m----> 4\u001b[1;33m     \u001b[0mdf\u001b[0m\u001b[1;33m[\u001b[0m\u001b[0mi\u001b[0m\u001b[1;33m]\u001b[0m\u001b[1;33m.\u001b[0m\u001b[0mto_text\u001b[0m\u001b[1;33m(\u001b[0m\u001b[0mf\u001b[0m\u001b[1;33m)\u001b[0m\u001b[1;33m\u001b[0m\u001b[1;33m\u001b[0m\u001b[0m\n\u001b[0m\u001b[0;32m      5\u001b[0m     \u001b[0mf\u001b[0m\u001b[1;33m.\u001b[0m\u001b[0mwrite\u001b[0m\u001b[1;33m(\u001b[0m\u001b[1;34m\"\\n\"\u001b[0m\u001b[1;33m)\u001b[0m\u001b[1;33m\u001b[0m\u001b[1;33m\u001b[0m\u001b[0m\n\u001b[0;32m      6\u001b[0m \u001b[1;33m\u001b[0m\u001b[0m\n",
      "\u001b[1;31mAttributeError\u001b[0m: 'str' object has no attribute 'to_text'"
     ]
    }
   ],
   "source": [
    "f = open(\"temp.txt\", \"w\")\n",
    "\n",
    "for i in range(len(df)):\n",
    "    df[i].to_text(f)\n",
    "    f.write(\"\\n\")\n",
    "\n",
    "f.close()"
   ]
  },
  {
   "cell_type": "code",
   "execution_count": null,
   "metadata": {},
   "outputs": [],
   "source": []
  }
 ],
 "metadata": {
  "kernelspec": {
   "display_name": "Python 3",
   "language": "python",
   "name": "python3"
  },
  "language_info": {
   "codemirror_mode": {
    "name": "ipython",
    "version": 3
   },
   "file_extension": ".py",
   "mimetype": "text/x-python",
   "name": "python",
   "nbconvert_exporter": "python",
   "pygments_lexer": "ipython3",
   "version": "3.6.8"
  }
 },
 "nbformat": 4,
 "nbformat_minor": 2
}

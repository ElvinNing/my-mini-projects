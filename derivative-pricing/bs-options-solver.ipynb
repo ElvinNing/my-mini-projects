{
 "cells": [
  {
   "cell_type": "markdown",
   "metadata": {},
   "source": [
    "# Black Scholes Solver"
   ]
  },
  {
   "cell_type": "code",
   "execution_count": 1,
   "metadata": {},
   "outputs": [],
   "source": [
    "import numpy as np\n",
    "import matplotlib.pyplot as plt\n",
    "import seaborn as sns\n",
    "from scipy.stats import norm\n",
    "\n",
    "sns.set(style='ticks', palette='bright')\n",
    "%matplotlib inline"
   ]
  },
  {
   "cell_type": "code",
   "execution_count": 2,
   "metadata": {},
   "outputs": [],
   "source": [
    "class EuroOption:\n",
    "\n",
    "    def __init__(self, S, K, T, sigma, r, cptype):\n",
    "        '''\n",
    "        S: spot price of underlying asset\n",
    "        K: strike price\n",
    "        T: time to maturity\n",
    "        sigma: volatility\n",
    "        r: risk-free rate\n",
    "        '''\n",
    "        # Double underscore __ for privacy.\n",
    "        self.__S = S\n",
    "        self.__K = K\n",
    "        self.__T = T\n",
    "        self.__sigma = sigma\n",
    "        self.__r = r\n",
    "        self.__cptype = cptype\n",
    "        \n",
    "    def closed_form(self):\n",
    "        '''Black-Scholes closed form solution,\n",
    "        \n",
    "        return: option price from Black-Scholes formula\n",
    "        '''\n",
    "        d1 = ((np.log(self.__S/self.__K) + (self.__r+(self.__sigma**2)/2)*self.__T) \n",
    "              / (self.__sigma*np.sqrt(self.__T)))\n",
    "        d2 = d1 - self.__sigma*np.sqrt(self.__T)\n",
    "        op = (self.__cptype*self.__S*norm.cdf(self.__cptype*d1) \n",
    "              - self.__cptype*self.__K*np.exp(-self.__r*self.__T)*norm.cdf(self.__cptype*d2))\n",
    "        return op\n",
    "    \n",
    "    def monte_carlo(self, samples=100000):\n",
    "        '''Monte Carlo simulation,\n",
    "        \n",
    "        samples: # of trials to average\n",
    "        return: option price as discounted expected payoff \n",
    "        '''\n",
    "        S_T = (self.__S*np.exp((self.__r-0.5*self.__sigma**2)*self.__T \n",
    "                               + self.__sigma*np.sqrt(self.__T)*np.random.normal(0, 1, samples)))\n",
    "        payoff = np.maximum(self.__cptype*(S_T - self.__K), np.zeros(samples))\n",
    "        return np.exp(-self.__r*self.__T)*np.average(payoff)\n",
    "    \n",
    "    def finite_difference(self, S_max=200, dS=1, dt=0.0005):\n",
    "        '''Explicit finite difference method. It's subject to runtime error and convergence problem \n",
    "        and needs further improvement for speed.\n",
    "        \n",
    "        S_max: maximum asset price for iteration\n",
    "        dS: iteration step for underlying asset\n",
    "        dt: iteration step for time\n",
    "        return: value matrix (dS, dt) \n",
    "        '''\n",
    "        \n",
    "        # Numbers of iteration steps for S and t\n",
    "        N = int(S_max / dS)\n",
    "        M = int(self.__T / dt)\n",
    "        \n",
    "        # Convergence contition\n",
    "        C = 1 / (self.__sigma**2*(N-1)+0.5*self.__r) \n",
    "        if dt >= C:\n",
    "            return 'Potential convergence problem, set dt smaller'\n",
    "        \n",
    "        S = np.zeros(N+1)\n",
    "        V = np.zeros((N+1, M+1))\n",
    "        for n in range(N+1):\n",
    "            S[n] = n*dS\n",
    "            V[n, M] = max(self.__cptype*(S[n]-self.__K), 0)  # Terminal payoff\n",
    "            \n",
    "        def a(sigma, r, n, dt):\n",
    "            return 0.5*(sigma**2*n**2 - r*n)*dt\n",
    "        def b(sigma, r, n, dt):\n",
    "            return 1 - (sigma**2*n**2 + r)*dt\n",
    "        def c(sigma, r, n, dt):\n",
    "            return 0.5*(sigma**2*n**2 + r*n)*dt\n",
    "        \n",
    "        for m in range(M, 0, -1):\n",
    "            for n in range(1, N):\n",
    "                V[n, m-1] = (a(self.__sigma, self.__r, n, dt)*V[n-1, m] \n",
    "                             + b(self.__sigma, self.__r, n, dt)*V[n,m] \n",
    "                             + c(self.__sigma, self.__r, n, dt)*V[n+1,m])  # Equation 26\n",
    "            V[0, m-1] = 0\n",
    "            V[N, m-1] = 2*V[N-1, m-1] - V[N-2, m-1]\n",
    "        \n",
    "        return V"
   ]
  },
  {
   "cell_type": "code",
   "execution_count": 3,
   "metadata": {},
   "outputs": [],
   "source": [
    "c = EuroOption(S=100, K=100, T=1, sigma=0.2, r=0.05, cptype=1)\n",
    "p = EuroOption(S=100, K=100, T=1, sigma=0.2, r=0.05, cptype=-1)"
   ]
  },
  {
   "cell_type": "markdown",
   "metadata": {},
   "source": [
    "## Closed form\n",
    "\n",
    "$d_1 = \\frac{ln(\\frac{S}{K})+(r+\\frac{\\sigma^2}{2})t}{\\sigma\\sqrt{t}}, d_2 = d_1 - \\sigma\\sqrt{t}$\n",
    "\n",
    "$c=SN(d_1)-Ke^{-rt}N(d_2)$\n",
    "\n",
    "$p=c+Ke^{-rt}-S = Ke^{-rt}N(-d_2)-SN(-d_1)$"
   ]
  },
  {
   "cell_type": "code",
   "execution_count": 4,
   "metadata": {
    "scrolled": false
   },
   "outputs": [
    {
     "data": {
      "text/plain": [
       "(10.450583572185565, 5.573526022256971)"
      ]
     },
     "execution_count": 4,
     "metadata": {},
     "output_type": "execute_result"
    }
   ],
   "source": [
    "c.closed_form(), p.closed_form()"
   ]
  },
  {
   "cell_type": "markdown",
   "metadata": {},
   "source": [
    "## Simulation of closed form GBM\n",
    "\n",
    "Assuming $dS_t = \\mu S_tdt +\\sigma S_tdW_t$, under no-arbitrage condition with risk-free rate $r$, we have\n",
    "\n",
    "$S_t = S_0 e^{(r-\\frac{1}{2}\\sigma^2)t + \\sigma \\epsilon \\sqrt{t}} , \\epsilon \\sim N(0,1)$.\n",
    "\n",
    "Simulate a large number of $S_T$, calculate the discounted average payoff as option price."
   ]
  },
  {
   "cell_type": "code",
   "execution_count": 5,
   "metadata": {},
   "outputs": [
    {
     "data": {
      "text/plain": [
       "(10.395823678674793, 5.598250277304124)"
      ]
     },
     "execution_count": 5,
     "metadata": {},
     "output_type": "execute_result"
    }
   ],
   "source": [
    "c.monte_carlo(), p.monte_carlo()"
   ]
  },
  {
   "cell_type": "markdown",
   "metadata": {},
   "source": [
    "## PDE solution\n",
    "For European call or put on underlying asset paying no dividends, \n",
    "$\\frac{\\partial V}{\\partial t} + rS \\frac{\\partial V}{\\partial S} + \\frac{1}{2}\\sigma^2S^2\\frac{\\partial^2 V}{\\partial S^2} - rV =0$\n",
    "\n",
    "Conditions for call:\n",
    "\n",
    "* $V(T,s) = (s-K)^+, s>0$\n",
    "* $\\lim_{s\\to0} V(t,s) = 0, t\\in[0, T]$\n",
    "* $\\lim_{s\\to\\infty} \\frac{V(t,s)}{s} = 1 , t\\in[0, T]$\n",
    "\n",
    "Conditions for put:\n",
    "\n",
    "* $V(T,s) = (K-s)^+, s>0$\n",
    "* $\\lim_{s\\to0} V(t,s) = Ke^{-r(T-t)}, t\\in[0, T]$\n",
    "* $\\lim_{s\\to\\infty} \\frac{V(t,s)}{s} = 0 , t\\in[0, T]$\n",
    "\n",
    "\n",
    "#### Explicit Finite Difference\n",
    "\n",
    "[Equation 26](https://www.math.uaic.ro/~annalsmath/pdf-uri%20anale/F1(2010)/Mosneagu.pdf)\n",
    "\n",
    "[Reference Code](https://github.com/CoryMagnuson/QUANT-TRAINING/blob/master/Explicit%20Finite%20Differences%20Method%20-%20Option%20Valuation.ipynb)\n"
   ]
  },
  {
   "cell_type": "code",
   "execution_count": 6,
   "metadata": {},
   "outputs": [],
   "source": [
    "c_pde, p_pde = c.finite_difference(), p.finite_difference()  # Slow"
   ]
  },
  {
   "cell_type": "code",
   "execution_count": 7,
   "metadata": {},
   "outputs": [
    {
     "data": {
      "text/plain": [
       "(10.44863749386339, 5.571520491123108)"
      ]
     },
     "execution_count": 7,
     "metadata": {},
     "output_type": "execute_result"
    }
   ],
   "source": [
    "c_pde[100, 0], p_pde[100, 0]"
   ]
  },
  {
   "cell_type": "markdown",
   "metadata": {},
   "source": [
    "## Option vs. Strike Plot"
   ]
  },
  {
   "cell_type": "code",
   "execution_count": 8,
   "metadata": {},
   "outputs": [],
   "source": [
    "K = np.arange(80, 121)\n",
    "c_bs, c_mc, c_fd = np.empty(len(K)), np.empty(len(K)), np.empty(len(K))"
   ]
  },
  {
   "cell_type": "code",
   "execution_count": 9,
   "metadata": {},
   "outputs": [],
   "source": [
    "for i, k in enumerate(K):\n",
    "    temp = EuroOption(S=100, K=k, T=1, sigma=0.2, r=0.05, cptype=1)\n",
    "    c_bs[i], c_mc[i], c_fd[i] = temp.closed_form(), temp.monte_carlo(), temp.finite_difference()[100, 0]  # Very slow."
   ]
  },
  {
   "cell_type": "code",
   "execution_count": 10,
   "metadata": {
    "scrolled": false
   },
   "outputs": [
    {
     "data": {
      "text/plain": [
       "(array([24.58883544, 23.74084027, 22.90419729, 22.07960436, 21.26774591,\n",
       "        20.46928792, 19.68487322, 18.91511694, 18.16060227, 17.42187669,\n",
       "        16.69944841, 15.99378341, 15.30530283, 14.63438083, 13.98134295,\n",
       "        13.34646495, 12.72997202, 12.13203861, 11.55278846, 10.99229527,\n",
       "        10.45058357,  9.92763003,  9.42336505,  8.93767461,  8.47040242,\n",
       "         8.02135224,  7.59029031,  7.17694805,  6.78102474,  6.4021903 ,\n",
       "         6.04008813,  5.69433796,  5.36453865,  5.05027095,  4.75110024,\n",
       "         4.46657915,  4.19625009,  3.9396477 ,  3.69630111,  3.46573616,\n",
       "         3.24747742]),\n",
       " array([24.4770224 , 23.75033165, 22.94498578, 21.9750689 , 21.31861659,\n",
       "        20.51606267, 19.71713176, 18.90697336, 18.13119518, 17.27186504,\n",
       "        16.79071955, 16.02656028, 15.30278363, 14.68167042, 14.04689178,\n",
       "        13.26091038, 12.81753034, 12.11192306, 11.59163718, 10.97514418,\n",
       "        10.45736309,  9.92031093,  9.46880213,  8.88960316,  8.52773327,\n",
       "         7.98159233,  7.56457388,  7.14507349,  6.76922054,  6.41190632,\n",
       "         6.07412437,  5.58747064,  5.27869362,  5.03774832,  4.67447553,\n",
       "         4.46116338,  4.15647608,  3.8847954 ,  3.68281441,  3.45361231,\n",
       "         3.22261759]),\n",
       " array([24.58803735, 23.73995811, 22.90323   , 22.07855163, 21.26660817,\n",
       "        20.46806638, 19.68356982, 18.91373433, 18.1591438 , 17.42034632,\n",
       "        16.69785068, 15.99212336, 15.30358594, 14.63261295, 13.97953022,\n",
       "        13.34461371, 12.72808878, 12.1301299 , 11.55086086, 10.99035525,\n",
       "        10.44863749,  9.92568406,  9.42142512,  8.93574638,  8.46849123,\n",
       "         8.01946309,  7.58842783,  7.17511649,  6.77922793,  6.40043169,\n",
       "         6.03837077,  5.69266448,  5.36291129,  5.04869158,  4.74957036,\n",
       "         4.4650999 ,  4.19482229,  3.93827185,  3.69497743,  3.4644646 ,\n",
       "         3.24625769]))"
      ]
     },
     "execution_count": 10,
     "metadata": {},
     "output_type": "execute_result"
    }
   ],
   "source": [
    "c_bs, c_mc, c_fd"
   ]
  },
  {
   "cell_type": "code",
   "execution_count": 11,
   "metadata": {},
   "outputs": [
    {
     "data": {
      "image/png": "[encoded data removed]",
      "text/plain": [
       "<Figure size 1296x360 with 3 Axes>"
      ]
     },
     "metadata": {
      "needs_background": "light"
     },
     "output_type": "display_data"
    }
   ],
   "source": [
    "fig, ax = plt.subplots(1, 3, figsize=(18,5))\n",
    "ax[0].plot(K, c_bs, c='b', label='Closed-form')\n",
    "ax[1].plot(K, c_mc, c='g', label='Monte Carlo SDE')\n",
    "ax[2].plot(K, c_fd, c='r', label='Finite Difference PDE')\n",
    "for i in range(0, 3):\n",
    "    ax[i].set_xlabel('Strike Price')\n",
    "    ax[i].set_ylabel('c')\n",
    "    ax[i].legend()\n",
    "fig.suptitle('European Option Price vs. Strike Price, where $S_0=100, T=1, \\sigma=20\\%, r = 5\\%$')\n",
    "None"
   ]
  },
  {
   "cell_type": "markdown",
   "metadata": {},
   "source": [
    "## Convergence and Error"
   ]
  },
  {
   "cell_type": "code",
   "execution_count": 12,
   "metadata": {},
   "outputs": [],
   "source": [
    "err1, err2 = c_mc - c_bs, c_fd - c_bs"
   ]
  },
  {
   "cell_type": "code",
   "execution_count": 13,
   "metadata": {
    "scrolled": true
   },
   "outputs": [
    {
     "data": {
      "text/plain": [
       "(array([-0.11181305,  0.00949138,  0.04078849, -0.10453546,  0.05087068,\n",
       "         0.04677475,  0.03225854, -0.00814358, -0.02940709, -0.15001165,\n",
       "         0.09127114,  0.03277687, -0.0025192 ,  0.04728959,  0.06554883,\n",
       "        -0.08555456,  0.08755832, -0.02011554,  0.03884872, -0.01715109,\n",
       "         0.00677952, -0.0073191 ,  0.04543709, -0.04807145,  0.05733085,\n",
       "        -0.03975991, -0.02571643, -0.03187456, -0.0118042 ,  0.00971602,\n",
       "         0.03403624, -0.10686733, -0.08584503, -0.01252264, -0.07662471,\n",
       "        -0.00541577, -0.03977401, -0.0548523 , -0.0134867 , -0.01212385,\n",
       "        -0.02485983]),\n",
       " array([-0.00079809, -0.00088216, -0.00096729, -0.00105274, -0.00113774,\n",
       "        -0.00122155, -0.0013034 , -0.0013826 , -0.00145847, -0.00153037,\n",
       "        -0.00159773, -0.00166005, -0.00171689, -0.00176788, -0.00181273,\n",
       "        -0.00185123, -0.00188325, -0.0019087 , -0.0019276 , -0.00194002,\n",
       "        -0.00194608, -0.00194597, -0.00193993, -0.00192823, -0.00191119,\n",
       "        -0.00188915, -0.00186248, -0.00183157, -0.00179681, -0.00175861,\n",
       "        -0.00171736, -0.00167348, -0.00162736, -0.00157937, -0.00152988,\n",
       "        -0.00147925, -0.0014278 , -0.00137585, -0.00132368, -0.00127156,\n",
       "        -0.00121972]),\n",
       " array([-0.00454731,  0.00039979,  0.00178083, -0.00473448,  0.00239192,\n",
       "         0.00228512,  0.00163875, -0.00043053, -0.00161928, -0.00861053,\n",
       "         0.00546552,  0.00204935, -0.0001646 ,  0.0032314 ,  0.00468831,\n",
       "        -0.00641028,  0.00687812, -0.00165805,  0.00336271, -0.00156028,\n",
       "         0.00064872, -0.00073725,  0.00482175, -0.00537852,  0.00676837,\n",
       "        -0.00495676, -0.00338807, -0.00444124, -0.00174077,  0.00151761,\n",
       "         0.00563506, -0.0187673 , -0.01600231, -0.0024796 , -0.01612778,\n",
       "        -0.00121251, -0.00947846, -0.01392315, -0.0036487 , -0.0034982 ,\n",
       "        -0.00765512]),\n",
       " array([-3.24573801e-05, -3.71577740e-05, -4.22319510e-05, -4.76791751e-05,\n",
       "        -5.34961287e-05, -5.96769842e-05, -6.62135080e-05, -7.30951944e-05,\n",
       "        -8.03094244e-05, -8.78416449e-05, -9.56755662e-05, -1.03793370e-04,\n",
       "        -1.12175931e-04, -1.20803035e-04, -1.29653612e-04, -1.38705953e-04,\n",
       "        -1.47937937e-04, -1.57327245e-04, -1.66851563e-04, -1.76488784e-04,\n",
       "        -1.86217191e-04, -1.96015634e-04, -2.05863686e-04, -2.15741797e-04,\n",
       "        -2.25631427e-04, -2.35515165e-04, -2.45376835e-04, -2.55201594e-04,\n",
       "        -2.64976011e-04, -2.74688134e-04, -2.84327549e-04, -2.93885423e-04,\n",
       "        -3.03354542e-04, -3.12729329e-04, -3.22005866e-04, -3.31181900e-04,\n",
       "        -3.40256836e-04, -3.49231737e-04, -3.58109306e-04, -3.66893866e-04,\n",
       "        -3.75591337e-04]))"
      ]
     },
     "execution_count": 13,
     "metadata": {},
     "output_type": "execute_result"
    }
   ],
   "source": [
    "err1, err2, err1 / c_bs, err2 / c_bs"
   ]
  },
  {
   "cell_type": "markdown",
   "metadata": {},
   "source": [
    "## Possible Improvement\n",
    "* More types of options, with dividends.\n",
    "* Generic simulation for non-closed-form assets, using numerical methods including Euler-Maruyama, Milstein, and Runge-Kutta.\n",
    "* Faster and more stable pde solver, such as finite difference method and finite element method."
   ]
  }
 ],
 "metadata": {
  "kernelspec": {
   "display_name": "Python 3",
   "language": "python",
   "name": "python3"
  },
  "language_info": {
   "codemirror_mode": {
    "name": "ipython",
    "version": 3
   },
   "file_extension": ".py",
   "mimetype": "text/x-python",
   "name": "python",
   "nbconvert_exporter": "python",
   "pygments_lexer": "ipython3",
   "version": "3.6.8"
  }
 },
 "nbformat": 4,
 "nbformat_minor": 2
}
